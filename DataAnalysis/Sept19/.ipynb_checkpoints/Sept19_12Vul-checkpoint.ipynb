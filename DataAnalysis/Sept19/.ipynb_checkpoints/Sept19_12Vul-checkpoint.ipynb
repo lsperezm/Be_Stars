{
 "cells": [
  {
   "cell_type": "code",
   "execution_count": 1,
   "id": "cf29bff1",
   "metadata": {},
   "outputs": [],
   "source": [
    "import numpy as np\n",
    "import matplotlib.pyplot as plt\n",
    "from astropy.io import fits"
   ]
  },
  {
   "cell_type": "code",
   "execution_count": 5,
   "id": "df279eb2",
   "metadata": {},
   "outputs": [],
   "source": [
    "fname = '../../DataReduction/FullSes19Sept_20240919T235253.fit'"
   ]
  },
  {
   "cell_type": "code",
   "execution_count": 6,
   "id": "2e1b68fa",
   "metadata": {},
   "outputs": [
    {
     "data": {
      "text/plain": [
       "SIMPLE  =                    T                                                  \n",
       "BITPIX  =                  -32 / bits per data value                            \n",
       "NAXIS   =                    1 / Number of data axes                            \n",
       "NAXIS1  =               137156 / Length of data axis 1                          \n",
       "EXPTIME =                  120 / [s] Total observation duration                 \n",
       "DATE-OBS= '2024-09-19T23:51:53.882' / Date of observation start                 \n",
       "BSCALE  =                    1 / linear factor in scaling equation              \n",
       "BZERO   =                    0 / zero point in scaling equation                 \n",
       "EXPOSURE=                  120 / [s] Total time of exposure                     \n",
       "EXPTIME2= '1 x 120 s' / Exposure decomposition                                  \n",
       "JD-OBS  =   2460573.4944000002 / JD start observation                           \n",
       "JD-MID  =   2460573.4950999999 / JD mid observation                             \n",
       "CRPIX1  =                    1 / Pixel start                                    \n",
       "CTYPE1  = 'Wavelength' / Axis 1 description                                     \n",
       "CUNIT1  = 'Angstrom' / Axis 1 unit                                              \n",
       "BSS_ITRP=                10000 / Instrument Typical Resolving Power (Indicative)\n",
       "DATAMIN =  0.68972850601986935 / [adu] minimum value for all pixels             \n",
       "DATAMAX =   26.128927754544563 / [adu] maximum value for all pixels             \n",
       "BSS_SITE= 'Nowhere' / Observation site                                          \n",
       "BSS_LONG=                    0 / Observation site longitude                     \n",
       "BSS_LAT =                    0 / Observation site latitude                      \n",
       "BSS_ELEV=                    0 / Observation site elevation                     \n",
       "BSS_INST= 'None' / Instrument name                                              \n",
       "BSS_COSM= 'none' / No cosmic correction                                         \n",
       "BSS_TELL= 'none' / Correction for telluric lines                                \n",
       "BSS_VHEL=                    0 / [km/s] Heliocentric velocity                   \n",
       "BSS_NORM= 'none' / No normalization applied                                     \n",
       "GEO_LONG=                    0 / Obs. geographic longitude                      \n",
       "GEO_LAT =                    0 / Obs. geographic latitude                       \n",
       "GEO_ELEV=                    0 / Obs. geographic elevation                      \n",
       "OBSERVER= 'Nobody' / Observer name                                              \n",
       "OBJNAME = 'Ses19Sept' / Object name                                             \n",
       "COMMENT = '' / descriptive comment                                              \n",
       "TELESCOP= 'NoTelescope' / Telescope                                             \n",
       "DETNAM  = 'NoCamera' / Camera (detector) name                                   \n",
       "INSTRUME= 'NoDevice' / Instrument name                                          \n",
       "SWCREATE= 'Demetra v7.3.3.0' / Software used to generate this file              \n",
       "CDELT1  = 0.023730002096148527 / Wavelength pixel step (Angstrom)               \n",
       "CRVAL1  =                 4140 / Wavelength pixel start (Angstrom)              "
      ]
     },
     "execution_count": 6,
     "metadata": {},
     "output_type": "execute_result"
    }
   ],
   "source": [
    "fits.getheader(fname)"
   ]
  },
  {
   "cell_type": "code",
   "execution_count": 7,
   "id": "9366dc72",
   "metadata": {},
   "outputs": [],
   "source": [
    "b = fits.getval(fname,\"CRVAL1\")\n",
    "m = fits.getval(fname,\"CDELT1\")"
   ]
  },
  {
   "cell_type": "code",
   "execution_count": 8,
   "id": "b25c4e76",
   "metadata": {},
   "outputs": [],
   "source": [
    "y = fits.getdata(fname)"
   ]
  },
  {
   "cell_type": "code",
   "execution_count": 9,
   "id": "91a05b8a",
   "metadata": {},
   "outputs": [],
   "source": [
    "x = m*np.arange(len(y))+b"
   ]
  },
  {
   "cell_type": "code",
   "execution_count": 10,
   "id": "4601c6cc",
   "metadata": {},
   "outputs": [
    {
     "data": {
      "text/plain": [
       "(0.0, 5.0)"
      ]
     },
     "execution_count": 10,
     "metadata": {},
     "output_type": "execute_result"
    },
    {
     "data": {
      "image/png": "[encoded data removed]",
      "text/plain": [
       "<Figure size 640x480 with 1 Axes>"
      ]
     },
     "metadata": {},
     "output_type": "display_data"
    }
   ],
   "source": [
    "plt.plot(x,y)\n",
    "\n",
    "plt.xlim(6400,6600)\n",
    "plt.ylim(0,5)"
   ]
  },
  {
   "cell_type": "code",
   "execution_count": null,
   "id": "6a17b998",
   "metadata": {},
   "outputs": [],
   "source": []
  }
 ],
 "metadata": {
  "kernelspec": {
   "display_name": "Python 3 (ipykernel)",
   "language": "python",
   "name": "python3"
  },
  "language_info": {
   "codemirror_mode": {
    "name": "ipython",
    "version": 3
   },
   "file_extension": ".py",
   "mimetype": "text/x-python",
   "name": "python",
   "nbconvert_exporter": "python",
   "pygments_lexer": "ipython3",
   "version": "3.10.9"
  }
 },
 "nbformat": 4,
 "nbformat_minor": 5
}
